{
 "cells": [
  {
   "cell_type": "code",
   "execution_count": 1,
   "metadata": {},
   "outputs": [],
   "source": [
    "import requests\n",
    "import pandas as pd\n",
    "import time\n",
    "import random\n",
    "\n",
    "headers = {\n",
    "    'User-Agent': 'Mozilla/5.0 (Windows NT 10.0; Win64; x64) AppleWebKit/537.36 (KHTML, like Gecko) Chrome/91.0.4472.124 Safari/537.36'\n",
    "}\n",
    "df = pd.DataFrame()\n",
    "a = 1\n",
    "# 此处必须设定循环次数，否则会无限重复爬取\n",
    "# 281为参照数据包中的oritotal,数据包中一共10条数据，循环280次得到2800条数据，但不包括底下回复的评论\n",
    "# 数据包中的commentnum，是包括回复的评论数据的总数，而数据包都包含10条评论数据和底下的回复的评论数据，所以只需要把2800除以10取整数+1即可！\n",
    "while a < 281:\n",
    "    if a == 1:\n",
    "        url = 'https://video.coral.qq.com/varticle/6655100451/comment/v2?orinum=10&oriorder=o&pageflag=1&cursor=0&scorecursor=0&orirepnum=2&reporder=o&reppageflag=1&source=132'\n",
    "    else:\n",
    "        url = f'https://video.coral.qq.com/varticle/6655100451/comment/v2?orinum=10&oriorder=o&pageflag=1&cursor={cursor}&scorecursor=0&orirepnum=2&reporder=o&reppageflag=1&source=132'\n",
    "    res = requests.get(url, headers=headers).json()\n",
    "    cursor = res['data']['last']\n",
    "    for i in res['data']['oriCommList']:\n",
    "        ids = i['id']\n",
    "        times = i['time']\n",
    "        up = i['up']\n",
    "        content = i['content'].replace('\\n', '')\n",
    "        text = pd.DataFrame({'ids': [ids], 'times': [times], 'up': [up], 'content': [content]})\n",
    "        df = pd.concat([df, text])\n",
    "    a += 1\n",
    "    time.sleep(random.uniform(2, 3))\n",
    "    df.to_csv('革命者_评论.csv', encoding='utf-8', index=False)"
   ]
  },
  {
   "cell_type": "code",
   "execution_count": null,
   "metadata": {},
   "outputs": [],
   "source": []
  }
 ],
 "metadata": {
  "kernelspec": {
   "display_name": "Python 3",
   "language": "python",
   "name": "python3"
  },
  "language_info": {
   "codemirror_mode": {
    "name": "ipython",
    "version": 3
   },
   "file_extension": ".py",
   "mimetype": "text/x-python",
   "name": "python",
   "nbconvert_exporter": "python",
   "pygments_lexer": "ipython3",
   "version": "3.7.4"
  }
 },
 "nbformat": 4,
 "nbformat_minor": 4
}
